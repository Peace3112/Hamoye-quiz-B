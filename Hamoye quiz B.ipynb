{
 "cells": [
  {
   "cell_type": "code",
   "execution_count": 1,
   "metadata": {},
   "outputs": [],
   "source": [
    "import numpy as np\n",
    "import pandas as pd\n",
    "import seaborn as sns\n",
    "import matplotlib.pyplot as plt\n",
    "%matplotlib inline"
   ]
  },
  {
   "cell_type": "code",
   "execution_count": 2,
   "metadata": {},
   "outputs": [
    {
     "name": "stdout",
     "output_type": "stream",
     "text": [
      "<class 'pandas.core.frame.DataFrame'>\n",
      "RangeIndex: 19735 entries, 0 to 19734\n",
      "Data columns (total 29 columns):\n",
      " #   Column       Non-Null Count  Dtype  \n",
      "---  ------       --------------  -----  \n",
      " 0   date         19735 non-null  object \n",
      " 1   Appliances   19735 non-null  int64  \n",
      " 2   lights       19735 non-null  int64  \n",
      " 3   T1           19735 non-null  float64\n",
      " 4   RH_1         19735 non-null  float64\n",
      " 5   T2           19735 non-null  float64\n",
      " 6   RH_2         19735 non-null  float64\n",
      " 7   T3           19735 non-null  float64\n",
      " 8   RH_3         19735 non-null  float64\n",
      " 9   T4           19735 non-null  float64\n",
      " 10  RH_4         19735 non-null  float64\n",
      " 11  T5           19735 non-null  float64\n",
      " 12  RH_5         19735 non-null  float64\n",
      " 13  T6           19735 non-null  float64\n",
      " 14  RH_6         19735 non-null  float64\n",
      " 15  T7           19735 non-null  float64\n",
      " 16  RH_7         19735 non-null  float64\n",
      " 17  T8           19735 non-null  float64\n",
      " 18  RH_8         19735 non-null  float64\n",
      " 19  T9           19735 non-null  float64\n",
      " 20  RH_9         19735 non-null  float64\n",
      " 21  T_out        19735 non-null  float64\n",
      " 22  Press_mm_hg  19735 non-null  float64\n",
      " 23  RH_out       19735 non-null  float64\n",
      " 24  Windspeed    19735 non-null  float64\n",
      " 25  Visibility   19735 non-null  float64\n",
      " 26  Tdewpoint    19735 non-null  float64\n",
      " 27  rv1          19735 non-null  float64\n",
      " 28  rv2          19735 non-null  float64\n",
      "dtypes: float64(26), int64(2), object(1)\n",
      "memory usage: 4.4+ MB\n"
     ]
    }
   ],
   "source": [
    "df= pd.read_csv('energydata_complete.csv')\n",
    "df.info()"
   ]
  },
  {
   "cell_type": "code",
   "execution_count": 3,
   "metadata": {},
   "outputs": [],
   "source": [
    "df.drop(['date','lights'],axis=1,inplace=True)"
   ]
  },
  {
   "cell_type": "code",
   "execution_count": 4,
   "metadata": {},
   "outputs": [],
   "source": [
    "from sklearn.preprocessing import MinMaxScaler\n",
    "scaler= MinMaxScaler()\n",
    "normalized_df= pd.DataFrame(scaler.fit_transform(df),columns=df.columns)"
   ]
  },
  {
   "cell_type": "code",
   "execution_count": 5,
   "metadata": {},
   "outputs": [
    {
     "data": {
      "text/html": [
       "<div>\n",
       "<style scoped>\n",
       "    .dataframe tbody tr th:only-of-type {\n",
       "        vertical-align: middle;\n",
       "    }\n",
       "\n",
       "    .dataframe tbody tr th {\n",
       "        vertical-align: top;\n",
       "    }\n",
       "\n",
       "    .dataframe thead th {\n",
       "        text-align: right;\n",
       "    }\n",
       "</style>\n",
       "<table border=\"1\" class=\"dataframe\">\n",
       "  <thead>\n",
       "    <tr style=\"text-align: right;\">\n",
       "      <th></th>\n",
       "      <th>Appliances</th>\n",
       "      <th>T1</th>\n",
       "      <th>RH_1</th>\n",
       "      <th>T2</th>\n",
       "      <th>RH_2</th>\n",
       "      <th>T3</th>\n",
       "      <th>RH_3</th>\n",
       "      <th>T4</th>\n",
       "      <th>RH_4</th>\n",
       "      <th>T5</th>\n",
       "      <th>...</th>\n",
       "      <th>T9</th>\n",
       "      <th>RH_9</th>\n",
       "      <th>T_out</th>\n",
       "      <th>Press_mm_hg</th>\n",
       "      <th>RH_out</th>\n",
       "      <th>Windspeed</th>\n",
       "      <th>Visibility</th>\n",
       "      <th>Tdewpoint</th>\n",
       "      <th>rv1</th>\n",
       "      <th>rv2</th>\n",
       "    </tr>\n",
       "  </thead>\n",
       "  <tbody>\n",
       "    <tr>\n",
       "      <th>0</th>\n",
       "      <td>0.046729</td>\n",
       "      <td>0.327350</td>\n",
       "      <td>0.566187</td>\n",
       "      <td>0.225345</td>\n",
       "      <td>0.684038</td>\n",
       "      <td>0.215188</td>\n",
       "      <td>0.746066</td>\n",
       "      <td>0.351351</td>\n",
       "      <td>0.764262</td>\n",
       "      <td>0.175506</td>\n",
       "      <td>...</td>\n",
       "      <td>0.223032</td>\n",
       "      <td>0.677290</td>\n",
       "      <td>0.372990</td>\n",
       "      <td>0.097674</td>\n",
       "      <td>0.894737</td>\n",
       "      <td>0.500000</td>\n",
       "      <td>0.953846</td>\n",
       "      <td>0.538462</td>\n",
       "      <td>0.265449</td>\n",
       "      <td>0.265449</td>\n",
       "    </tr>\n",
       "    <tr>\n",
       "      <th>1</th>\n",
       "      <td>0.046729</td>\n",
       "      <td>0.327350</td>\n",
       "      <td>0.541326</td>\n",
       "      <td>0.225345</td>\n",
       "      <td>0.682140</td>\n",
       "      <td>0.215188</td>\n",
       "      <td>0.748871</td>\n",
       "      <td>0.351351</td>\n",
       "      <td>0.782437</td>\n",
       "      <td>0.175506</td>\n",
       "      <td>...</td>\n",
       "      <td>0.226500</td>\n",
       "      <td>0.678532</td>\n",
       "      <td>0.369239</td>\n",
       "      <td>0.100000</td>\n",
       "      <td>0.894737</td>\n",
       "      <td>0.476190</td>\n",
       "      <td>0.894872</td>\n",
       "      <td>0.533937</td>\n",
       "      <td>0.372083</td>\n",
       "      <td>0.372083</td>\n",
       "    </tr>\n",
       "    <tr>\n",
       "      <th>2</th>\n",
       "      <td>0.037383</td>\n",
       "      <td>0.327350</td>\n",
       "      <td>0.530502</td>\n",
       "      <td>0.225345</td>\n",
       "      <td>0.679445</td>\n",
       "      <td>0.215188</td>\n",
       "      <td>0.755569</td>\n",
       "      <td>0.344745</td>\n",
       "      <td>0.778062</td>\n",
       "      <td>0.175506</td>\n",
       "      <td>...</td>\n",
       "      <td>0.219563</td>\n",
       "      <td>0.676049</td>\n",
       "      <td>0.365488</td>\n",
       "      <td>0.102326</td>\n",
       "      <td>0.894737</td>\n",
       "      <td>0.452381</td>\n",
       "      <td>0.835897</td>\n",
       "      <td>0.529412</td>\n",
       "      <td>0.572848</td>\n",
       "      <td>0.572848</td>\n",
       "    </tr>\n",
       "    <tr>\n",
       "      <th>3</th>\n",
       "      <td>0.037383</td>\n",
       "      <td>0.327350</td>\n",
       "      <td>0.524080</td>\n",
       "      <td>0.225345</td>\n",
       "      <td>0.678414</td>\n",
       "      <td>0.215188</td>\n",
       "      <td>0.758685</td>\n",
       "      <td>0.341441</td>\n",
       "      <td>0.770949</td>\n",
       "      <td>0.175506</td>\n",
       "      <td>...</td>\n",
       "      <td>0.219563</td>\n",
       "      <td>0.671909</td>\n",
       "      <td>0.361736</td>\n",
       "      <td>0.104651</td>\n",
       "      <td>0.894737</td>\n",
       "      <td>0.428571</td>\n",
       "      <td>0.776923</td>\n",
       "      <td>0.524887</td>\n",
       "      <td>0.908261</td>\n",
       "      <td>0.908261</td>\n",
       "    </tr>\n",
       "    <tr>\n",
       "      <th>4</th>\n",
       "      <td>0.046729</td>\n",
       "      <td>0.327350</td>\n",
       "      <td>0.531419</td>\n",
       "      <td>0.225345</td>\n",
       "      <td>0.676727</td>\n",
       "      <td>0.215188</td>\n",
       "      <td>0.758685</td>\n",
       "      <td>0.341441</td>\n",
       "      <td>0.762697</td>\n",
       "      <td>0.178691</td>\n",
       "      <td>...</td>\n",
       "      <td>0.219563</td>\n",
       "      <td>0.671909</td>\n",
       "      <td>0.357985</td>\n",
       "      <td>0.106977</td>\n",
       "      <td>0.894737</td>\n",
       "      <td>0.404762</td>\n",
       "      <td>0.717949</td>\n",
       "      <td>0.520362</td>\n",
       "      <td>0.201611</td>\n",
       "      <td>0.201611</td>\n",
       "    </tr>\n",
       "    <tr>\n",
       "      <th>...</th>\n",
       "      <td>...</td>\n",
       "      <td>...</td>\n",
       "      <td>...</td>\n",
       "      <td>...</td>\n",
       "      <td>...</td>\n",
       "      <td>...</td>\n",
       "      <td>...</td>\n",
       "      <td>...</td>\n",
       "      <td>...</td>\n",
       "      <td>...</td>\n",
       "      <td>...</td>\n",
       "      <td>...</td>\n",
       "      <td>...</td>\n",
       "      <td>...</td>\n",
       "      <td>...</td>\n",
       "      <td>...</td>\n",
       "      <td>...</td>\n",
       "      <td>...</td>\n",
       "      <td>...</td>\n",
       "      <td>...</td>\n",
       "      <td>...</td>\n",
       "    </tr>\n",
       "    <tr>\n",
       "      <th>19730</th>\n",
       "      <td>0.084112</td>\n",
       "      <td>0.926786</td>\n",
       "      <td>0.537657</td>\n",
       "      <td>0.711655</td>\n",
       "      <td>0.606309</td>\n",
       "      <td>0.830841</td>\n",
       "      <td>0.579374</td>\n",
       "      <td>0.864865</td>\n",
       "      <td>0.765258</td>\n",
       "      <td>0.752031</td>\n",
       "      <td>...</td>\n",
       "      <td>0.864724</td>\n",
       "      <td>0.729443</td>\n",
       "      <td>0.891747</td>\n",
       "      <td>0.602326</td>\n",
       "      <td>0.416667</td>\n",
       "      <td>0.238095</td>\n",
       "      <td>0.348718</td>\n",
       "      <td>0.901961</td>\n",
       "      <td>0.861981</td>\n",
       "      <td>0.861981</td>\n",
       "    </tr>\n",
       "    <tr>\n",
       "      <th>19731</th>\n",
       "      <td>0.074766</td>\n",
       "      <td>0.919747</td>\n",
       "      <td>0.536006</td>\n",
       "      <td>0.701769</td>\n",
       "      <td>0.607836</td>\n",
       "      <td>0.825302</td>\n",
       "      <td>0.582178</td>\n",
       "      <td>0.864865</td>\n",
       "      <td>0.765258</td>\n",
       "      <td>0.754897</td>\n",
       "      <td>...</td>\n",
       "      <td>0.864724</td>\n",
       "      <td>0.729443</td>\n",
       "      <td>0.887460</td>\n",
       "      <td>0.602326</td>\n",
       "      <td>0.421053</td>\n",
       "      <td>0.250000</td>\n",
       "      <td>0.361538</td>\n",
       "      <td>0.900452</td>\n",
       "      <td>0.985726</td>\n",
       "      <td>0.985726</td>\n",
       "    </tr>\n",
       "    <tr>\n",
       "      <th>19732</th>\n",
       "      <td>0.242991</td>\n",
       "      <td>0.919747</td>\n",
       "      <td>0.538666</td>\n",
       "      <td>0.692651</td>\n",
       "      <td>0.627198</td>\n",
       "      <td>0.818378</td>\n",
       "      <td>0.603988</td>\n",
       "      <td>0.864865</td>\n",
       "      <td>0.771233</td>\n",
       "      <td>0.754897</td>\n",
       "      <td>...</td>\n",
       "      <td>0.864724</td>\n",
       "      <td>0.729443</td>\n",
       "      <td>0.883173</td>\n",
       "      <td>0.602326</td>\n",
       "      <td>0.425439</td>\n",
       "      <td>0.261905</td>\n",
       "      <td>0.374359</td>\n",
       "      <td>0.898944</td>\n",
       "      <td>0.583979</td>\n",
       "      <td>0.583979</td>\n",
       "    </tr>\n",
       "    <tr>\n",
       "      <th>19733</th>\n",
       "      <td>0.383178</td>\n",
       "      <td>0.919747</td>\n",
       "      <td>0.549491</td>\n",
       "      <td>0.677054</td>\n",
       "      <td>0.634717</td>\n",
       "      <td>0.805085</td>\n",
       "      <td>0.585294</td>\n",
       "      <td>0.864865</td>\n",
       "      <td>0.773794</td>\n",
       "      <td>0.752031</td>\n",
       "      <td>...</td>\n",
       "      <td>0.864724</td>\n",
       "      <td>0.730581</td>\n",
       "      <td>0.878885</td>\n",
       "      <td>0.602326</td>\n",
       "      <td>0.429825</td>\n",
       "      <td>0.273810</td>\n",
       "      <td>0.387179</td>\n",
       "      <td>0.897436</td>\n",
       "      <td>0.126371</td>\n",
       "      <td>0.126371</td>\n",
       "    </tr>\n",
       "    <tr>\n",
       "      <th>19734</th>\n",
       "      <td>0.392523</td>\n",
       "      <td>0.919747</td>\n",
       "      <td>0.538758</td>\n",
       "      <td>0.666171</td>\n",
       "      <td>0.632902</td>\n",
       "      <td>0.799546</td>\n",
       "      <td>0.579062</td>\n",
       "      <td>0.864865</td>\n",
       "      <td>0.781192</td>\n",
       "      <td>0.752031</td>\n",
       "      <td>...</td>\n",
       "      <td>0.864724</td>\n",
       "      <td>0.731719</td>\n",
       "      <td>0.874598</td>\n",
       "      <td>0.602326</td>\n",
       "      <td>0.434211</td>\n",
       "      <td>0.285714</td>\n",
       "      <td>0.400000</td>\n",
       "      <td>0.895928</td>\n",
       "      <td>0.682391</td>\n",
       "      <td>0.682391</td>\n",
       "    </tr>\n",
       "  </tbody>\n",
       "</table>\n",
       "<p>19735 rows × 27 columns</p>\n",
       "</div>"
      ],
      "text/plain": [
       "       Appliances        T1      RH_1        T2      RH_2        T3      RH_3  \\\n",
       "0        0.046729  0.327350  0.566187  0.225345  0.684038  0.215188  0.746066   \n",
       "1        0.046729  0.327350  0.541326  0.225345  0.682140  0.215188  0.748871   \n",
       "2        0.037383  0.327350  0.530502  0.225345  0.679445  0.215188  0.755569   \n",
       "3        0.037383  0.327350  0.524080  0.225345  0.678414  0.215188  0.758685   \n",
       "4        0.046729  0.327350  0.531419  0.225345  0.676727  0.215188  0.758685   \n",
       "...           ...       ...       ...       ...       ...       ...       ...   \n",
       "19730    0.084112  0.926786  0.537657  0.711655  0.606309  0.830841  0.579374   \n",
       "19731    0.074766  0.919747  0.536006  0.701769  0.607836  0.825302  0.582178   \n",
       "19732    0.242991  0.919747  0.538666  0.692651  0.627198  0.818378  0.603988   \n",
       "19733    0.383178  0.919747  0.549491  0.677054  0.634717  0.805085  0.585294   \n",
       "19734    0.392523  0.919747  0.538758  0.666171  0.632902  0.799546  0.579062   \n",
       "\n",
       "             T4      RH_4        T5  ...        T9      RH_9     T_out  \\\n",
       "0      0.351351  0.764262  0.175506  ...  0.223032  0.677290  0.372990   \n",
       "1      0.351351  0.782437  0.175506  ...  0.226500  0.678532  0.369239   \n",
       "2      0.344745  0.778062  0.175506  ...  0.219563  0.676049  0.365488   \n",
       "3      0.341441  0.770949  0.175506  ...  0.219563  0.671909  0.361736   \n",
       "4      0.341441  0.762697  0.178691  ...  0.219563  0.671909  0.357985   \n",
       "...         ...       ...       ...  ...       ...       ...       ...   \n",
       "19730  0.864865  0.765258  0.752031  ...  0.864724  0.729443  0.891747   \n",
       "19731  0.864865  0.765258  0.754897  ...  0.864724  0.729443  0.887460   \n",
       "19732  0.864865  0.771233  0.754897  ...  0.864724  0.729443  0.883173   \n",
       "19733  0.864865  0.773794  0.752031  ...  0.864724  0.730581  0.878885   \n",
       "19734  0.864865  0.781192  0.752031  ...  0.864724  0.731719  0.874598   \n",
       "\n",
       "       Press_mm_hg    RH_out  Windspeed  Visibility  Tdewpoint       rv1  \\\n",
       "0         0.097674  0.894737   0.500000    0.953846   0.538462  0.265449   \n",
       "1         0.100000  0.894737   0.476190    0.894872   0.533937  0.372083   \n",
       "2         0.102326  0.894737   0.452381    0.835897   0.529412  0.572848   \n",
       "3         0.104651  0.894737   0.428571    0.776923   0.524887  0.908261   \n",
       "4         0.106977  0.894737   0.404762    0.717949   0.520362  0.201611   \n",
       "...            ...       ...        ...         ...        ...       ...   \n",
       "19730     0.602326  0.416667   0.238095    0.348718   0.901961  0.861981   \n",
       "19731     0.602326  0.421053   0.250000    0.361538   0.900452  0.985726   \n",
       "19732     0.602326  0.425439   0.261905    0.374359   0.898944  0.583979   \n",
       "19733     0.602326  0.429825   0.273810    0.387179   0.897436  0.126371   \n",
       "19734     0.602326  0.434211   0.285714    0.400000   0.895928  0.682391   \n",
       "\n",
       "            rv2  \n",
       "0      0.265449  \n",
       "1      0.372083  \n",
       "2      0.572848  \n",
       "3      0.908261  \n",
       "4      0.201611  \n",
       "...         ...  \n",
       "19730  0.861981  \n",
       "19731  0.985726  \n",
       "19732  0.583979  \n",
       "19733  0.126371  \n",
       "19734  0.682391  \n",
       "\n",
       "[19735 rows x 27 columns]"
      ]
     },
     "execution_count": 5,
     "metadata": {},
     "output_type": "execute_result"
    }
   ],
   "source": [
    "normalized_df"
   ]
  },
  {
   "cell_type": "code",
   "execution_count": 6,
   "metadata": {},
   "outputs": [],
   "source": [
    "X=normalized_df[['T2']]\n",
    "y=normalized_df[['T6']]"
   ]
  },
  {
   "cell_type": "code",
   "execution_count": 7,
   "metadata": {},
   "outputs": [],
   "source": [
    "from sklearn.model_selection import train_test_split\n",
    "X_train, X_test, y_train, y_test = train_test_split(X, y, test_size=0.3, random_state=42)"
   ]
  },
  {
   "cell_type": "code",
   "execution_count": 8,
   "metadata": {},
   "outputs": [
    {
     "data": {
      "text/plain": [
       "LinearRegression(copy_X=True, fit_intercept=True, n_jobs=None, normalize=False)"
      ]
     },
     "execution_count": 8,
     "metadata": {},
     "output_type": "execute_result"
    }
   ],
   "source": [
    "from sklearn.linear_model import LinearRegression\n",
    "lr=LinearRegression()\n",
    "lr.fit(X_train,y_train)"
   ]
  },
  {
   "cell_type": "code",
   "execution_count": 9,
   "metadata": {},
   "outputs": [],
   "source": [
    "pred=lr.predict(X_test)"
   ]
  },
  {
   "cell_type": "code",
   "execution_count": 10,
   "metadata": {},
   "outputs": [
    {
     "data": {
      "text/plain": [
       "0.64"
      ]
     },
     "execution_count": 10,
     "metadata": {},
     "output_type": "execute_result"
    }
   ],
   "source": [
    "from sklearn.metrics import r2_score\n",
    "r2= r2_score(y_test,pred)\n",
    "round(r2,2)"
   ]
  },
  {
   "cell_type": "code",
   "execution_count": 11,
   "metadata": {},
   "outputs": [],
   "source": [
    "X= normalized_df.drop('Appliances',axis=1)\n",
    "y= normalized_df['Appliances']"
   ]
  },
  {
   "cell_type": "code",
   "execution_count": 12,
   "metadata": {},
   "outputs": [],
   "source": [
    "from sklearn.model_selection import train_test_split\n",
    "X_train, X_test, y_train, y_test = train_test_split(X, y, test_size=0.3, random_state=42)"
   ]
  },
  {
   "cell_type": "code",
   "execution_count": 13,
   "metadata": {},
   "outputs": [
    {
     "data": {
      "text/plain": [
       "LinearRegression(copy_X=True, fit_intercept=True, n_jobs=None, normalize=False)"
      ]
     },
     "execution_count": 13,
     "metadata": {},
     "output_type": "execute_result"
    }
   ],
   "source": [
    "from sklearn.linear_model import LinearRegression\n",
    "linear_model= LinearRegression()\n",
    "linear_model.fit(X_train,y_train)"
   ]
  },
  {
   "cell_type": "code",
   "execution_count": 14,
   "metadata": {},
   "outputs": [],
   "source": [
    "prediction=linear_model.predict(X_test)"
   ]
  },
  {
   "cell_type": "code",
   "execution_count": 15,
   "metadata": {},
   "outputs": [
    {
     "data": {
      "text/plain": [
       "array([0.03322207, 0.24411599, 0.03400024, ..., 0.06844707, 0.10032325,\n",
       "       0.05722198])"
      ]
     },
     "execution_count": 15,
     "metadata": {},
     "output_type": "execute_result"
    }
   ],
   "source": [
    "prediction"
   ]
  },
  {
   "cell_type": "code",
   "execution_count": 16,
   "metadata": {},
   "outputs": [
    {
     "data": {
      "text/plain": [
       "0.05"
      ]
     },
     "execution_count": 16,
     "metadata": {},
     "output_type": "execute_result"
    }
   ],
   "source": [
    "from sklearn.metrics import mean_absolute_error\n",
    "mae=mean_absolute_error(y_test,prediction)\n",
    "round(mae,2)"
   ]
  },
  {
   "cell_type": "code",
   "execution_count": 17,
   "metadata": {},
   "outputs": [
    {
     "data": {
      "text/plain": [
       "45.35"
      ]
     },
     "execution_count": 17,
     "metadata": {},
     "output_type": "execute_result"
    }
   ],
   "source": [
    "ssr= np.sum(np.square(y_test-prediction))\n",
    "round(ssr,2)"
   ]
  },
  {
   "cell_type": "code",
   "execution_count": 18,
   "metadata": {},
   "outputs": [
    {
     "data": {
      "text/plain": [
       "0.0875144494766171"
      ]
     },
     "execution_count": 18,
     "metadata": {},
     "output_type": "execute_result"
    }
   ],
   "source": [
    "from sklearn.metrics import mean_squared_error\n",
    "mse=mean_squared_error(y_test,prediction)\n",
    "rmse=np.sqrt(mse)\n",
    "rmse"
   ]
  },
  {
   "cell_type": "code",
   "execution_count": 19,
   "metadata": {},
   "outputs": [
    {
     "data": {
      "text/plain": [
       "0.088"
      ]
     },
     "execution_count": 19,
     "metadata": {},
     "output_type": "execute_result"
    }
   ],
   "source": [
    "round(rmse,3)"
   ]
  },
  {
   "cell_type": "code",
   "execution_count": 20,
   "metadata": {},
   "outputs": [
    {
     "data": {
      "text/plain": [
       "0.15"
      ]
     },
     "execution_count": 20,
     "metadata": {},
     "output_type": "execute_result"
    }
   ],
   "source": [
    "from sklearn.metrics import r2_score\n",
    "r2= r2_score(y_test,prediction)\n",
    "round(r2,2)"
   ]
  },
  {
   "cell_type": "code",
   "execution_count": 21,
   "metadata": {},
   "outputs": [
    {
     "data": {
      "text/plain": [
       "RH_2          -0.456698\n",
       "T_out         -0.321860\n",
       "T2            -0.236178\n",
       "T9            -0.189941\n",
       "RH_8          -0.157595\n",
       "RH_out        -0.077671\n",
       "RH_7          -0.044614\n",
       "RH_9          -0.039800\n",
       "T5            -0.015657\n",
       "T1            -0.003281\n",
       "rv1            0.000770\n",
       "rv2            0.000770\n",
       "Press_mm_hg    0.006839\n",
       "T7             0.010319\n",
       "Visibility     0.012307\n",
       "RH_5           0.016006\n",
       "RH_4           0.026386\n",
       "T4             0.028981\n",
       "Windspeed      0.029183\n",
       "RH_6           0.038049\n",
       "RH_3           0.096048\n",
       "T8             0.101995\n",
       "Tdewpoint      0.117758\n",
       "T6             0.236425\n",
       "T3             0.290627\n",
       "RH_1           0.553547\n",
       "dtype: float64"
      ]
     },
     "execution_count": 21,
     "metadata": {},
     "output_type": "execute_result"
    }
   ],
   "source": [
    "pd.Series(linear_model.coef_,X.columns).sort_values()"
   ]
  },
  {
   "cell_type": "code",
   "execution_count": 22,
   "metadata": {},
   "outputs": [
    {
     "data": {
      "text/plain": [
       "Ridge(alpha=0.4, copy_X=True, fit_intercept=True, max_iter=None,\n",
       "      normalize=False, random_state=None, solver='auto', tol=0.001)"
      ]
     },
     "execution_count": 22,
     "metadata": {},
     "output_type": "execute_result"
    }
   ],
   "source": [
    "from sklearn.linear_model import Ridge\n",
    "ridge= Ridge(alpha=0.4)\n",
    "ridge.fit(X_train,y_train)"
   ]
  },
  {
   "cell_type": "code",
   "execution_count": 23,
   "metadata": {},
   "outputs": [],
   "source": [
    "prediction_ridge= ridge.predict(X_test)"
   ]
  },
  {
   "cell_type": "code",
   "execution_count": 24,
   "metadata": {},
   "outputs": [
    {
     "data": {
      "text/plain": [
       "0.08753385704628004"
      ]
     },
     "execution_count": 24,
     "metadata": {},
     "output_type": "execute_result"
    }
   ],
   "source": [
    "from sklearn.metrics import mean_squared_error\n",
    "mse_ridge= mean_squared_error(y_test,prediction_ridge)\n",
    "rmse_ridge= np.sqrt(mse_ridge)\n",
    "rmse_ridge"
   ]
  },
  {
   "cell_type": "code",
   "execution_count": 25,
   "metadata": {},
   "outputs": [
    {
     "data": {
      "text/plain": [
       "False"
      ]
     },
     "execution_count": 25,
     "metadata": {},
     "output_type": "execute_result"
    }
   ],
   "source": [
    "rmse==rmse_ridge"
   ]
  },
  {
   "cell_type": "code",
   "execution_count": 26,
   "metadata": {},
   "outputs": [
    {
     "data": {
      "text/plain": [
       "Lasso(alpha=0.001, copy_X=True, fit_intercept=True, max_iter=1000,\n",
       "      normalize=False, positive=False, precompute=False, random_state=None,\n",
       "      selection='cyclic', tol=0.0001, warm_start=False)"
      ]
     },
     "execution_count": 26,
     "metadata": {},
     "output_type": "execute_result"
    }
   ],
   "source": [
    "from sklearn.linear_model import Lasso\n",
    "lasso= Lasso(alpha=0.001)\n",
    "lasso.fit(X_train,y_train)"
   ]
  },
  {
   "cell_type": "code",
   "execution_count": 27,
   "metadata": {},
   "outputs": [],
   "source": [
    "prediction_lasso= lasso.predict(X_test)"
   ]
  },
  {
   "cell_type": "code",
   "execution_count": 28,
   "metadata": {},
   "outputs": [
    {
     "data": {
      "text/plain": [
       "4"
      ]
     },
     "execution_count": 28,
     "metadata": {},
     "output_type": "execute_result"
    }
   ],
   "source": [
    "lassoweight= pd.Series(lasso.coef_,X.columns).sort_values(ascending=False)\n",
    "lassoweight_df=pd.DataFrame(lassoweight).reset_index()\n",
    "lassoweight_df.columns=['Features','Lasso model']\n",
    "sum(lassoweight_df['Lasso model']!=0)"
   ]
  },
  {
   "cell_type": "code",
   "execution_count": 29,
   "metadata": {},
   "outputs": [
    {
     "data": {
      "text/plain": [
       "0.094"
      ]
     },
     "execution_count": 29,
     "metadata": {},
     "output_type": "execute_result"
    }
   ],
   "source": [
    "from sklearn.metrics import mean_squared_error\n",
    "mse_lasso= mean_squared_error(y_test, prediction_lasso)\n",
    "rmse_lasso= np.sqrt(mse_lasso)\n",
    "round(rmse_lasso,3)"
   ]
  },
  {
   "cell_type": "code",
   "execution_count": null,
   "metadata": {},
   "outputs": [],
   "source": []
  }
 ],
 "metadata": {
  "kernelspec": {
   "display_name": "Python 3",
   "language": "python",
   "name": "python3"
  },
  "language_info": {
   "codemirror_mode": {
    "name": "ipython",
    "version": 3
   },
   "file_extension": ".py",
   "mimetype": "text/x-python",
   "name": "python",
   "nbconvert_exporter": "python",
   "pygments_lexer": "ipython3",
   "version": "3.7.6"
  }
 },
 "nbformat": 4,
 "nbformat_minor": 4
}
